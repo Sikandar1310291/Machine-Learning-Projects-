{
 "cells": [
  {
   "cell_type": "markdown",
   "id": "2bef0ff5-099e-48fc-9fff-759cb707561c",
   "metadata": {},
   "source": [
    "# cpu price prediction app"
   ]
  },
  {
   "cell_type": "code",
   "execution_count": 1,
   "id": "ae8f37df-96bb-42d9-af38-b694ad6815ac",
   "metadata": {},
   "outputs": [],
   "source": [
    "import numpy as np \n",
    "import pandas as pd"
   ]
  },
  {
   "cell_type": "code",
   "execution_count": 2,
   "id": "565b4cd0-fe19-4ec3-92af-306e959d258a",
   "metadata": {},
   "outputs": [
    {
     "data": {
      "text/html": [
       "<div>\n",
       "<style scoped>\n",
       "    .dataframe tbody tr th:only-of-type {\n",
       "        vertical-align: middle;\n",
       "    }\n",
       "\n",
       "    .dataframe tbody tr th {\n",
       "        vertical-align: top;\n",
       "    }\n",
       "\n",
       "    .dataframe thead th {\n",
       "        text-align: right;\n",
       "    }\n",
       "</style>\n",
       "<table border=\"1\" class=\"dataframe\">\n",
       "  <thead>\n",
       "    <tr style=\"text-align: right;\">\n",
       "      <th></th>\n",
       "      <th>cpuName</th>\n",
       "      <th>price</th>\n",
       "      <th>cpuMark</th>\n",
       "      <th>cpuValue</th>\n",
       "      <th>threadMark</th>\n",
       "      <th>threadValue</th>\n",
       "      <th>TDP</th>\n",
       "      <th>powerPerf</th>\n",
       "      <th>cores</th>\n",
       "      <th>testDate</th>\n",
       "      <th>socket</th>\n",
       "      <th>category</th>\n",
       "    </tr>\n",
       "  </thead>\n",
       "  <tbody>\n",
       "    <tr>\n",
       "      <th>0</th>\n",
       "      <td>AMD Ryzen Threadripper PRO 5995WX</td>\n",
       "      <td>NaN</td>\n",
       "      <td>108822</td>\n",
       "      <td>NaN</td>\n",
       "      <td>3330</td>\n",
       "      <td>NaN</td>\n",
       "      <td>280.0</td>\n",
       "      <td>388.65</td>\n",
       "      <td>64</td>\n",
       "      <td>2022</td>\n",
       "      <td>sWRX8</td>\n",
       "      <td>Desktop</td>\n",
       "    </tr>\n",
       "    <tr>\n",
       "      <th>1</th>\n",
       "      <td>AMD EPYC 7763</td>\n",
       "      <td>7299.99</td>\n",
       "      <td>88338</td>\n",
       "      <td>12.10</td>\n",
       "      <td>2635</td>\n",
       "      <td>0.36</td>\n",
       "      <td>280.0</td>\n",
       "      <td>315.49</td>\n",
       "      <td>64</td>\n",
       "      <td>2021</td>\n",
       "      <td>SP3</td>\n",
       "      <td>Server</td>\n",
       "    </tr>\n",
       "    <tr>\n",
       "      <th>2</th>\n",
       "      <td>AMD EPYC 7J13</td>\n",
       "      <td>NaN</td>\n",
       "      <td>86006</td>\n",
       "      <td>NaN</td>\n",
       "      <td>2387</td>\n",
       "      <td>NaN</td>\n",
       "      <td>NaN</td>\n",
       "      <td>NaN</td>\n",
       "      <td>64</td>\n",
       "      <td>2021</td>\n",
       "      <td>unknown</td>\n",
       "      <td>Server</td>\n",
       "    </tr>\n",
       "    <tr>\n",
       "      <th>3</th>\n",
       "      <td>AMD EPYC 7713</td>\n",
       "      <td>7060.00</td>\n",
       "      <td>85861</td>\n",
       "      <td>12.16</td>\n",
       "      <td>2727</td>\n",
       "      <td>0.39</td>\n",
       "      <td>225.0</td>\n",
       "      <td>381.6</td>\n",
       "      <td>64</td>\n",
       "      <td>2021</td>\n",
       "      <td>SP3</td>\n",
       "      <td>Server</td>\n",
       "    </tr>\n",
       "    <tr>\n",
       "      <th>4</th>\n",
       "      <td>AMD Ryzen Threadripper PRO 3995WX</td>\n",
       "      <td>6807.98</td>\n",
       "      <td>83971</td>\n",
       "      <td>12.33</td>\n",
       "      <td>2626</td>\n",
       "      <td>0.39</td>\n",
       "      <td>280.0</td>\n",
       "      <td>299.9</td>\n",
       "      <td>64</td>\n",
       "      <td>2020</td>\n",
       "      <td>sWRX8</td>\n",
       "      <td>Desktop</td>\n",
       "    </tr>\n",
       "  </tbody>\n",
       "</table>\n",
       "</div>"
      ],
      "text/plain": [
       "                             cpuName    price  cpuMark  cpuValue  threadMark  \\\n",
       "0  AMD Ryzen Threadripper PRO 5995WX      NaN   108822       NaN        3330   \n",
       "1                      AMD EPYC 7763  7299.99    88338     12.10        2635   \n",
       "2                      AMD EPYC 7J13      NaN    86006       NaN        2387   \n",
       "3                      AMD EPYC 7713  7060.00    85861     12.16        2727   \n",
       "4  AMD Ryzen Threadripper PRO 3995WX  6807.98    83971     12.33        2626   \n",
       "\n",
       "   threadValue    TDP powerPerf  cores  testDate   socket category  \n",
       "0          NaN  280.0    388.65     64      2022    sWRX8  Desktop  \n",
       "1         0.36  280.0    315.49     64      2021      SP3   Server  \n",
       "2          NaN    NaN       NaN     64      2021  unknown   Server  \n",
       "3         0.39  225.0     381.6     64      2021      SP3   Server  \n",
       "4         0.39  280.0     299.9     64      2020    sWRX8  Desktop  "
      ]
     },
     "execution_count": 2,
     "metadata": {},
     "output_type": "execute_result"
    }
   ],
   "source": [
    "data = pd.read_csv(r\"C:\\Users\\ma516\\OneDrive\\Desktop\\Machine Learning Projects\\CPU Performance Dataset\\CPU_benchmark_v4.csv\")\n",
    "data.head()"
   ]
  },
  {
   "cell_type": "markdown",
   "id": "176fe0f1-0714-4cf8-aa68-eb3e50378e2f",
   "metadata": {},
   "source": [
    "# Feature Extraction"
   ]
  },
  {
   "cell_type": "code",
   "execution_count": 3,
   "id": "eab461cf-9432-4519-9cb9-1b9fdfdb10ba",
   "metadata": {},
   "outputs": [
    {
     "data": {
      "text/plain": [
       "cpuName           0\n",
       "price          1858\n",
       "cpuMark           0\n",
       "cpuValue       1858\n",
       "threadMark        0\n",
       "threadValue    1858\n",
       "TDP             685\n",
       "powerPerf       685\n",
       "cores             0\n",
       "testDate          0\n",
       "socket            0\n",
       "category          0\n",
       "dtype: int64"
      ]
     },
     "execution_count": 3,
     "metadata": {},
     "output_type": "execute_result"
    }
   ],
   "source": [
    "# Check all the missing value\n",
    "data.isnull().sum()"
   ]
  },
  {
   "cell_type": "code",
   "execution_count": 50,
   "id": "0cd31338-b6fe-4825-aa2b-13dae203ae71",
   "metadata": {
    "scrolled": true
   },
   "outputs": [
    {
     "name": "stderr",
     "output_type": "stream",
     "text": [
      "C:\\Users\\ma516\\AppData\\Local\\Temp\\ipykernel_7156\\2352841256.py:4: FutureWarning: Series.fillna with 'method' is deprecated and will raise in a future version. Use obj.ffill() or obj.bfill() instead.\n",
      "  data['powerPerf'] = data['powerPerf'].fillna(method = 'ffill')\n",
      "C:\\Users\\ma516\\AppData\\Local\\Temp\\ipykernel_7156\\2352841256.py:5: FutureWarning: Series.fillna with 'method' is deprecated and will raise in a future version. Use obj.ffill() or obj.bfill() instead.\n",
      "  data['TDP'] = data['TDP'].fillna(method = 'ffill')\n"
     ]
    }
   ],
   "source": [
    "# Fil The all Missing Value\n",
    "data['price'] = data['price'].fillna(data['price'].mean())\n",
    "data['cpuValue'] = data['cpuValue'].fillna(data['cpuValue'].mean())\n",
    "data['threadValue'] = data['threadValue'].fillna(data['threadValue'].mean())\n",
    "data['powerPerf'] = data['powerPerf'].fillna(method = 'ffill')\n",
    "data['TDP'] = data['TDP'].fillna(method = 'ffill')\n",
    "data[\"powerPerf\"] = data[\"powerPerf\"].fillna(1)\n"
   ]
  },
  {
   "cell_type": "code",
   "execution_count": 52,
   "id": "b70d63a6-8a18-4a24-aded-0b3c79cd4460",
   "metadata": {},
   "outputs": [
    {
     "data": {
      "text/plain": [
       "cpuName        0\n",
       "price          0\n",
       "cpuMark        0\n",
       "cpuValue       0\n",
       "threadMark     0\n",
       "threadValue    0\n",
       "TDP            0\n",
       "powerPerf      0\n",
       "cores          0\n",
       "testDate       0\n",
       "socket         0\n",
       "category       0\n",
       "dtype: int64"
      ]
     },
     "execution_count": 52,
     "metadata": {},
     "output_type": "execute_result"
    }
   ],
   "source": [
    "data.isnull().sum()"
   ]
  },
  {
   "cell_type": "code",
   "execution_count": 53,
   "id": "dd162a73-167a-4109-9437-6eee6d25fc98",
   "metadata": {},
   "outputs": [
    {
     "data": {
      "text/plain": [
       "(3825, 12)"
      ]
     },
     "execution_count": 53,
     "metadata": {},
     "output_type": "execute_result"
    }
   ],
   "source": [
    "# known total no of rows and columns\n",
    "data.shape"
   ]
  },
  {
   "cell_type": "code",
   "execution_count": 54,
   "id": "e51bace9-2aa5-426f-a029-1cd4449f396e",
   "metadata": {},
   "outputs": [
    {
     "data": {
      "text/html": [
       "<div>\n",
       "<style scoped>\n",
       "    .dataframe tbody tr th:only-of-type {\n",
       "        vertical-align: middle;\n",
       "    }\n",
       "\n",
       "    .dataframe tbody tr th {\n",
       "        vertical-align: top;\n",
       "    }\n",
       "\n",
       "    .dataframe thead th {\n",
       "        text-align: right;\n",
       "    }\n",
       "</style>\n",
       "<table border=\"1\" class=\"dataframe\">\n",
       "  <thead>\n",
       "    <tr style=\"text-align: right;\">\n",
       "      <th></th>\n",
       "      <th>price</th>\n",
       "      <th>cpuMark</th>\n",
       "      <th>cpuValue</th>\n",
       "      <th>threadMark</th>\n",
       "      <th>threadValue</th>\n",
       "      <th>cores</th>\n",
       "      <th>testDate</th>\n",
       "    </tr>\n",
       "  </thead>\n",
       "  <tbody>\n",
       "    <tr>\n",
       "      <th>count</th>\n",
       "      <td>3825.000000</td>\n",
       "      <td>3825.000000</td>\n",
       "      <td>3825.000000</td>\n",
       "      <td>3825.000000</td>\n",
       "      <td>3825.000000</td>\n",
       "      <td>3825.000000</td>\n",
       "      <td>3825.000000</td>\n",
       "    </tr>\n",
       "    <tr>\n",
       "      <th>mean</th>\n",
       "      <td>441.500946</td>\n",
       "      <td>5992.305882</td>\n",
       "      <td>35.354911</td>\n",
       "      <td>1391.107451</td>\n",
       "      <td>15.189009</td>\n",
       "      <td>5.052288</td>\n",
       "      <td>2015.027974</td>\n",
       "    </tr>\n",
       "    <tr>\n",
       "      <th>std</th>\n",
       "      <td>650.647576</td>\n",
       "      <td>9617.551479</td>\n",
       "      <td>25.678033</td>\n",
       "      <td>815.667528</td>\n",
       "      <td>12.839840</td>\n",
       "      <td>6.185833</td>\n",
       "      <td>4.597616</td>\n",
       "    </tr>\n",
       "    <tr>\n",
       "      <th>min</th>\n",
       "      <td>3.990000</td>\n",
       "      <td>77.000000</td>\n",
       "      <td>0.220000</td>\n",
       "      <td>75.000000</td>\n",
       "      <td>0.130000</td>\n",
       "      <td>1.000000</td>\n",
       "      <td>2007.000000</td>\n",
       "    </tr>\n",
       "    <tr>\n",
       "      <th>25%</th>\n",
       "      <td>150.110000</td>\n",
       "      <td>943.000000</td>\n",
       "      <td>24.720000</td>\n",
       "      <td>729.000000</td>\n",
       "      <td>9.430000</td>\n",
       "      <td>2.000000</td>\n",
       "      <td>2011.000000</td>\n",
       "    </tr>\n",
       "    <tr>\n",
       "      <th>50%</th>\n",
       "      <td>441.500946</td>\n",
       "      <td>2331.000000</td>\n",
       "      <td>35.354911</td>\n",
       "      <td>1274.000000</td>\n",
       "      <td>15.189009</td>\n",
       "      <td>4.000000</td>\n",
       "      <td>2015.000000</td>\n",
       "    </tr>\n",
       "    <tr>\n",
       "      <th>75%</th>\n",
       "      <td>441.500946</td>\n",
       "      <td>6643.000000</td>\n",
       "      <td>35.354911</td>\n",
       "      <td>1961.000000</td>\n",
       "      <td>15.189009</td>\n",
       "      <td>6.000000</td>\n",
       "      <td>2020.000000</td>\n",
       "    </tr>\n",
       "    <tr>\n",
       "      <th>max</th>\n",
       "      <td>8978.000000</td>\n",
       "      <td>108822.000000</td>\n",
       "      <td>345.330000</td>\n",
       "      <td>4317.000000</td>\n",
       "      <td>267.820000</td>\n",
       "      <td>80.000000</td>\n",
       "      <td>2022.000000</td>\n",
       "    </tr>\n",
       "  </tbody>\n",
       "</table>\n",
       "</div>"
      ],
      "text/plain": [
       "             price        cpuMark     cpuValue   threadMark  threadValue  \\\n",
       "count  3825.000000    3825.000000  3825.000000  3825.000000  3825.000000   \n",
       "mean    441.500946    5992.305882    35.354911  1391.107451    15.189009   \n",
       "std     650.647576    9617.551479    25.678033   815.667528    12.839840   \n",
       "min       3.990000      77.000000     0.220000    75.000000     0.130000   \n",
       "25%     150.110000     943.000000    24.720000   729.000000     9.430000   \n",
       "50%     441.500946    2331.000000    35.354911  1274.000000    15.189009   \n",
       "75%     441.500946    6643.000000    35.354911  1961.000000    15.189009   \n",
       "max    8978.000000  108822.000000   345.330000  4317.000000   267.820000   \n",
       "\n",
       "             cores     testDate  \n",
       "count  3825.000000  3825.000000  \n",
       "mean      5.052288  2015.027974  \n",
       "std       6.185833     4.597616  \n",
       "min       1.000000  2007.000000  \n",
       "25%       2.000000  2011.000000  \n",
       "50%       4.000000  2015.000000  \n",
       "75%       6.000000  2020.000000  \n",
       "max      80.000000  2022.000000  "
      ]
     },
     "execution_count": 54,
     "metadata": {},
     "output_type": "execute_result"
    }
   ],
   "source": [
    "# known about my dataset\n",
    "data.describe()"
   ]
  },
  {
   "cell_type": "code",
   "execution_count": 55,
   "id": "f35d6992-0da8-4c82-a3f4-9cbdd270e33c",
   "metadata": {},
   "outputs": [
    {
     "data": {
      "text/plain": [
       "array(['Desktop', 'Server', 'Desktop, Server', 'Unknown', 'Laptop',\n",
       "       'Laptop, Server', 'Desktop, Laptop', 'Desktop, Mobile/Embedded',\n",
       "       'Server, Mobile/Embedded', 'Mobile/Embedded',\n",
       "       'Laptop, Mobile/Embedded', 'Desktop, Laptop, Mobile/Embedded'],\n",
       "      dtype=object)"
      ]
     },
     "execution_count": 55,
     "metadata": {},
     "output_type": "execute_result"
    }
   ],
   "source": [
    "data['category'].unique()"
   ]
  },
  {
   "cell_type": "code",
   "execution_count": 56,
   "id": "ce95b011-0a82-409c-ad7c-c1a9f170abd4",
   "metadata": {},
   "outputs": [
    {
     "data": {
      "text/plain": [
       "array(['8', '3', '', '4', '4189', '1700', '3647', '2579', '2066', '1744',\n",
       "       '1200', '2011-3', '7', '-2066', '1787', '6', '1151-2', '-3647',\n",
       "       '2518', '2011-1', '1440', '2011', '42', '1449', '1667', '1526',\n",
       "       '1356', '1598', '1528', '1344', '1151', '2227', '2270', '-1526',\n",
       "       '5', '34', '1150', '1364', '1366', '946947', '17001700', '946',\n",
       "       '1155', '-1356', '988', '32', '1224', '1377', '1338', '1310',\n",
       "       '98812', '1140', '1493', '1296', '2', '1090', '-1016', '23',\n",
       "       '1156', '1023', '1168', '1207', '115511', '9881', '1515', '771',\n",
       "       '1283', '775', '604', '1', '2938-', '1234', '2940-', '1288',\n",
       "       '1567', '11', '12', '478', '7693', '3769-', '1170', '1380', '603',\n",
       "       '479478', '8272', '479', '13', '940', '22', '-1023', '956', '592',\n",
       "       '14', '939', '812', '-478', '775775', '754', '559', '4131', '400',\n",
       "       '437', '111', '-4760', '-4794', '-479', '478-4', '370', '441',\n",
       "       '462', '518', '423'], dtype=object)"
      ]
     },
     "execution_count": 56,
     "metadata": {},
     "output_type": "execute_result"
    }
   ],
   "source": [
    "data['socket'].unique()"
   ]
  },
  {
   "cell_type": "code",
   "execution_count": 57,
   "id": "1e6bfbd8-2973-4e96-b09b-3f7771302e29",
   "metadata": {},
   "outputs": [],
   "source": [
    "# Split dataset into X and Y\n",
    "x = data.drop(columns=[\"testDate\" ,\"price\" , 'category' ]  )\n",
    "y = data['price']"
   ]
  },
  {
   "cell_type": "markdown",
   "id": "42889d57-0503-407d-9c58-7cf9377bbe4c",
   "metadata": {},
   "source": [
    "# Label Encoder"
   ]
  },
  {
   "cell_type": "code",
   "execution_count": 58,
   "id": "0491f02a-13b2-4450-89ee-9d1c3b11e5da",
   "metadata": {},
   "outputs": [],
   "source": [
    "from sklearn.preprocessing import LabelEncoder\n",
    "LE = LabelEncoder()"
   ]
  },
  {
   "cell_type": "code",
   "execution_count": 59,
   "id": "bd751a52-5150-494c-8091-6325afe8e906",
   "metadata": {},
   "outputs": [],
   "source": [
    "x['cpuName'] = LE.fit_transform(x['cpuName'])\n",
    "x['socket'] = LE.fit_transform(x['socket'])\n"
   ]
  },
  {
   "cell_type": "code",
   "execution_count": 60,
   "id": "04cb0c01-e594-4b30-a126-c28d99bc4ec3",
   "metadata": {},
   "outputs": [],
   "source": [
    "cols = [ 'cpuName', 'socket', 'TDP', 'powerPerf']\n",
    "\n",
    "for col in cols:\n",
    "    data[col] = (\n",
    "        data[col]\n",
    "        .astype(str)  # ensure string\n",
    "        .str.replace(\",\", \"\", regex=False)  # remove commas\n",
    "        .str.replace(r'[^0-9.\\-]', '', regex=True)  # remove other junk like $ or W\n",
    "    )\n",
    "    x[col] = pd.to_numeric(data[col], errors='coerce')  # convert to float\n"
   ]
  },
  {
   "cell_type": "code",
   "execution_count": 61,
   "id": "2a991943-7969-41bc-b51a-3f6e008510d4",
   "metadata": {},
   "outputs": [],
   "source": [
    "x['cpuName'] = x['cpuName'].fillna(x['cpuName'].mean())\n",
    "x['socket'] = x['socket'].fillna(x['socket'].mean())\n"
   ]
  },
  {
   "cell_type": "code",
   "execution_count": 62,
   "id": "a59544e3-530d-459a-bafd-67d288c39fa5",
   "metadata": {},
   "outputs": [
    {
     "name": "stdout",
     "output_type": "stream",
     "text": [
      "<class 'pandas.core.frame.DataFrame'>\n",
      "RangeIndex: 3825 entries, 0 to 3824\n",
      "Data columns (total 9 columns):\n",
      " #   Column       Non-Null Count  Dtype  \n",
      "---  ------       --------------  -----  \n",
      " 0   cpuName      3825 non-null   float64\n",
      " 1   cpuMark      3825 non-null   int64  \n",
      " 2   cpuValue     3825 non-null   float64\n",
      " 3   threadMark   3825 non-null   int64  \n",
      " 4   threadValue  3825 non-null   float64\n",
      " 5   TDP          3825 non-null   float64\n",
      " 6   powerPerf    3825 non-null   float64\n",
      " 7   cores        3825 non-null   int64  \n",
      " 8   socket       3825 non-null   float64\n",
      "dtypes: float64(6), int64(3)\n",
      "memory usage: 269.1 KB\n"
     ]
    }
   ],
   "source": [
    "x.info()"
   ]
  },
  {
   "cell_type": "code",
   "execution_count": 87,
   "id": "2f15caac-f6c9-45f3-b7e7-bead9ae168d7",
   "metadata": {},
   "outputs": [
    {
     "data": {
      "text/html": [
       "<div>\n",
       "<style scoped>\n",
       "    .dataframe tbody tr th:only-of-type {\n",
       "        vertical-align: middle;\n",
       "    }\n",
       "\n",
       "    .dataframe tbody tr th {\n",
       "        vertical-align: top;\n",
       "    }\n",
       "\n",
       "    .dataframe thead th {\n",
       "        text-align: right;\n",
       "    }\n",
       "</style>\n",
       "<table border=\"1\" class=\"dataframe\">\n",
       "  <thead>\n",
       "    <tr style=\"text-align: right;\">\n",
       "      <th></th>\n",
       "      <th>cpuName</th>\n",
       "      <th>cpuMark</th>\n",
       "      <th>cpuValue</th>\n",
       "      <th>threadMark</th>\n",
       "      <th>threadValue</th>\n",
       "      <th>TDP</th>\n",
       "      <th>powerPerf</th>\n",
       "      <th>cores</th>\n",
       "      <th>socket</th>\n",
       "    </tr>\n",
       "  </thead>\n",
       "  <tbody>\n",
       "    <tr>\n",
       "      <th>0</th>\n",
       "      <td>5995.0</td>\n",
       "      <td>108822</td>\n",
       "      <td>35.354911</td>\n",
       "      <td>3330</td>\n",
       "      <td>15.189009</td>\n",
       "      <td>280.0</td>\n",
       "      <td>388.65</td>\n",
       "      <td>64</td>\n",
       "      <td>8.000000</td>\n",
       "    </tr>\n",
       "    <tr>\n",
       "      <th>1</th>\n",
       "      <td>7763.0</td>\n",
       "      <td>88338</td>\n",
       "      <td>12.100000</td>\n",
       "      <td>2635</td>\n",
       "      <td>0.360000</td>\n",
       "      <td>280.0</td>\n",
       "      <td>315.49</td>\n",
       "      <td>64</td>\n",
       "      <td>3.000000</td>\n",
       "    </tr>\n",
       "    <tr>\n",
       "      <th>2</th>\n",
       "      <td>713.0</td>\n",
       "      <td>86006</td>\n",
       "      <td>35.354911</td>\n",
       "      <td>2387</td>\n",
       "      <td>15.189009</td>\n",
       "      <td>280.0</td>\n",
       "      <td>315.49</td>\n",
       "      <td>64</td>\n",
       "      <td>15149.013894</td>\n",
       "    </tr>\n",
       "    <tr>\n",
       "      <th>3</th>\n",
       "      <td>7713.0</td>\n",
       "      <td>85861</td>\n",
       "      <td>12.160000</td>\n",
       "      <td>2727</td>\n",
       "      <td>0.390000</td>\n",
       "      <td>225.0</td>\n",
       "      <td>381.60</td>\n",
       "      <td>64</td>\n",
       "      <td>3.000000</td>\n",
       "    </tr>\n",
       "    <tr>\n",
       "      <th>4</th>\n",
       "      <td>3995.0</td>\n",
       "      <td>83971</td>\n",
       "      <td>12.330000</td>\n",
       "      <td>2626</td>\n",
       "      <td>0.390000</td>\n",
       "      <td>280.0</td>\n",
       "      <td>299.90</td>\n",
       "      <td>64</td>\n",
       "      <td>8.000000</td>\n",
       "    </tr>\n",
       "  </tbody>\n",
       "</table>\n",
       "</div>"
      ],
      "text/plain": [
       "   cpuName  cpuMark   cpuValue  threadMark  threadValue    TDP  powerPerf  \\\n",
       "0   5995.0   108822  35.354911        3330    15.189009  280.0     388.65   \n",
       "1   7763.0    88338  12.100000        2635     0.360000  280.0     315.49   \n",
       "2    713.0    86006  35.354911        2387    15.189009  280.0     315.49   \n",
       "3   7713.0    85861  12.160000        2727     0.390000  225.0     381.60   \n",
       "4   3995.0    83971  12.330000        2626     0.390000  280.0     299.90   \n",
       "\n",
       "   cores        socket  \n",
       "0     64      8.000000  \n",
       "1     64      3.000000  \n",
       "2     64  15149.013894  \n",
       "3     64      3.000000  \n",
       "4     64      8.000000  "
      ]
     },
     "execution_count": 87,
     "metadata": {},
     "output_type": "execute_result"
    }
   ],
   "source": [
    "x.head(5)"
   ]
  },
  {
   "cell_type": "code",
   "execution_count": 88,
   "id": "2ffc049c-5c33-4a32-acdb-07deb00615a9",
   "metadata": {},
   "outputs": [
    {
     "data": {
      "text/plain": [
       "0     441.500946\n",
       "1    7299.990000\n",
       "2     441.500946\n",
       "3    7060.000000\n",
       "4    6807.980000\n",
       "Name: price, dtype: float64"
      ]
     },
     "execution_count": 88,
     "metadata": {},
     "output_type": "execute_result"
    }
   ],
   "source": [
    "y.head(5)"
   ]
  },
  {
   "cell_type": "markdown",
   "id": "167b6fce-ff23-4474-85bb-71f8fae6273b",
   "metadata": {},
   "source": [
    "# Train Our Data"
   ]
  },
  {
   "cell_type": "code",
   "execution_count": 66,
   "id": "559de216-f0ad-40ad-b6a3-c3cabd661ab1",
   "metadata": {},
   "outputs": [],
   "source": [
    "from sklearn.model_selection import train_test_split"
   ]
  },
  {
   "cell_type": "code",
   "execution_count": 67,
   "id": "0944336a-f46e-458d-babe-5e944ecdcc16",
   "metadata": {},
   "outputs": [],
   "source": [
    "x_train , x_test , y_train , y_test = train_test_split(x,y,random_state=2,test_size=0.2)"
   ]
  },
  {
   "cell_type": "code",
   "execution_count": 68,
   "id": "5b8f1e91-5aac-4d5b-abc6-dbf66cf8d3ec",
   "metadata": {},
   "outputs": [
    {
     "name": "stdout",
     "output_type": "stream",
     "text": [
      "(3825, 9) (3060, 9) (3060,)\n"
     ]
    }
   ],
   "source": [
    "print(x.shape , x_train.shape , y_train.shape)"
   ]
  },
  {
   "cell_type": "code",
   "execution_count": 69,
   "id": "d069e4cb-82a8-46bd-9dea-06c11a6a71e3",
   "metadata": {},
   "outputs": [],
   "source": [
    "from sklearn.tree import DecisionTreeRegressor"
   ]
  },
  {
   "cell_type": "code",
   "execution_count": 90,
   "id": "60a357b7-f9c2-4cba-bb94-9c39f2ca2bcf",
   "metadata": {},
   "outputs": [],
   "source": [
    "model = DecisionTreeRegressor(max_depth=4)"
   ]
  },
  {
   "cell_type": "code",
   "execution_count": 91,
   "id": "69f9a3ee-094c-4901-b546-c0d623da6341",
   "metadata": {},
   "outputs": [
    {
     "data": {
      "text/html": [
       "<style>#sk-container-id-3 {\n",
       "  /* Definition of color scheme common for light and dark mode */\n",
       "  --sklearn-color-text: black;\n",
       "  --sklearn-color-line: gray;\n",
       "  /* Definition of color scheme for unfitted estimators */\n",
       "  --sklearn-color-unfitted-level-0: #fff5e6;\n",
       "  --sklearn-color-unfitted-level-1: #f6e4d2;\n",
       "  --sklearn-color-unfitted-level-2: #ffe0b3;\n",
       "  --sklearn-color-unfitted-level-3: chocolate;\n",
       "  /* Definition of color scheme for fitted estimators */\n",
       "  --sklearn-color-fitted-level-0: #f0f8ff;\n",
       "  --sklearn-color-fitted-level-1: #d4ebff;\n",
       "  --sklearn-color-fitted-level-2: #b3dbfd;\n",
       "  --sklearn-color-fitted-level-3: cornflowerblue;\n",
       "\n",
       "  /* Specific color for light theme */\n",
       "  --sklearn-color-text-on-default-background: var(--sg-text-color, var(--theme-code-foreground, var(--jp-content-font-color1, black)));\n",
       "  --sklearn-color-background: var(--sg-background-color, var(--theme-background, var(--jp-layout-color0, white)));\n",
       "  --sklearn-color-border-box: var(--sg-text-color, var(--theme-code-foreground, var(--jp-content-font-color1, black)));\n",
       "  --sklearn-color-icon: #696969;\n",
       "\n",
       "  @media (prefers-color-scheme: dark) {\n",
       "    /* Redefinition of color scheme for dark theme */\n",
       "    --sklearn-color-text-on-default-background: var(--sg-text-color, var(--theme-code-foreground, var(--jp-content-font-color1, white)));\n",
       "    --sklearn-color-background: var(--sg-background-color, var(--theme-background, var(--jp-layout-color0, #111)));\n",
       "    --sklearn-color-border-box: var(--sg-text-color, var(--theme-code-foreground, var(--jp-content-font-color1, white)));\n",
       "    --sklearn-color-icon: #878787;\n",
       "  }\n",
       "}\n",
       "\n",
       "#sk-container-id-3 {\n",
       "  color: var(--sklearn-color-text);\n",
       "}\n",
       "\n",
       "#sk-container-id-3 pre {\n",
       "  padding: 0;\n",
       "}\n",
       "\n",
       "#sk-container-id-3 input.sk-hidden--visually {\n",
       "  border: 0;\n",
       "  clip: rect(1px 1px 1px 1px);\n",
       "  clip: rect(1px, 1px, 1px, 1px);\n",
       "  height: 1px;\n",
       "  margin: -1px;\n",
       "  overflow: hidden;\n",
       "  padding: 0;\n",
       "  position: absolute;\n",
       "  width: 1px;\n",
       "}\n",
       "\n",
       "#sk-container-id-3 div.sk-dashed-wrapped {\n",
       "  border: 1px dashed var(--sklearn-color-line);\n",
       "  margin: 0 0.4em 0.5em 0.4em;\n",
       "  box-sizing: border-box;\n",
       "  padding-bottom: 0.4em;\n",
       "  background-color: var(--sklearn-color-background);\n",
       "}\n",
       "\n",
       "#sk-container-id-3 div.sk-container {\n",
       "  /* jupyter's `normalize.less` sets `[hidden] { display: none; }`\n",
       "     but bootstrap.min.css set `[hidden] { display: none !important; }`\n",
       "     so we also need the `!important` here to be able to override the\n",
       "     default hidden behavior on the sphinx rendered scikit-learn.org.\n",
       "     See: https://github.com/scikit-learn/scikit-learn/issues/21755 */\n",
       "  display: inline-block !important;\n",
       "  position: relative;\n",
       "}\n",
       "\n",
       "#sk-container-id-3 div.sk-text-repr-fallback {\n",
       "  display: none;\n",
       "}\n",
       "\n",
       "div.sk-parallel-item,\n",
       "div.sk-serial,\n",
       "div.sk-item {\n",
       "  /* draw centered vertical line to link estimators */\n",
       "  background-image: linear-gradient(var(--sklearn-color-text-on-default-background), var(--sklearn-color-text-on-default-background));\n",
       "  background-size: 2px 100%;\n",
       "  background-repeat: no-repeat;\n",
       "  background-position: center center;\n",
       "}\n",
       "\n",
       "/* Parallel-specific style estimator block */\n",
       "\n",
       "#sk-container-id-3 div.sk-parallel-item::after {\n",
       "  content: \"\";\n",
       "  width: 100%;\n",
       "  border-bottom: 2px solid var(--sklearn-color-text-on-default-background);\n",
       "  flex-grow: 1;\n",
       "}\n",
       "\n",
       "#sk-container-id-3 div.sk-parallel {\n",
       "  display: flex;\n",
       "  align-items: stretch;\n",
       "  justify-content: center;\n",
       "  background-color: var(--sklearn-color-background);\n",
       "  position: relative;\n",
       "}\n",
       "\n",
       "#sk-container-id-3 div.sk-parallel-item {\n",
       "  display: flex;\n",
       "  flex-direction: column;\n",
       "}\n",
       "\n",
       "#sk-container-id-3 div.sk-parallel-item:first-child::after {\n",
       "  align-self: flex-end;\n",
       "  width: 50%;\n",
       "}\n",
       "\n",
       "#sk-container-id-3 div.sk-parallel-item:last-child::after {\n",
       "  align-self: flex-start;\n",
       "  width: 50%;\n",
       "}\n",
       "\n",
       "#sk-container-id-3 div.sk-parallel-item:only-child::after {\n",
       "  width: 0;\n",
       "}\n",
       "\n",
       "/* Serial-specific style estimator block */\n",
       "\n",
       "#sk-container-id-3 div.sk-serial {\n",
       "  display: flex;\n",
       "  flex-direction: column;\n",
       "  align-items: center;\n",
       "  background-color: var(--sklearn-color-background);\n",
       "  padding-right: 1em;\n",
       "  padding-left: 1em;\n",
       "}\n",
       "\n",
       "\n",
       "/* Toggleable style: style used for estimator/Pipeline/ColumnTransformer box that is\n",
       "clickable and can be expanded/collapsed.\n",
       "- Pipeline and ColumnTransformer use this feature and define the default style\n",
       "- Estimators will overwrite some part of the style using the `sk-estimator` class\n",
       "*/\n",
       "\n",
       "/* Pipeline and ColumnTransformer style (default) */\n",
       "\n",
       "#sk-container-id-3 div.sk-toggleable {\n",
       "  /* Default theme specific background. It is overwritten whether we have a\n",
       "  specific estimator or a Pipeline/ColumnTransformer */\n",
       "  background-color: var(--sklearn-color-background);\n",
       "}\n",
       "\n",
       "/* Toggleable label */\n",
       "#sk-container-id-3 label.sk-toggleable__label {\n",
       "  cursor: pointer;\n",
       "  display: block;\n",
       "  width: 100%;\n",
       "  margin-bottom: 0;\n",
       "  padding: 0.5em;\n",
       "  box-sizing: border-box;\n",
       "  text-align: center;\n",
       "}\n",
       "\n",
       "#sk-container-id-3 label.sk-toggleable__label-arrow:before {\n",
       "  /* Arrow on the left of the label */\n",
       "  content: \"▸\";\n",
       "  float: left;\n",
       "  margin-right: 0.25em;\n",
       "  color: var(--sklearn-color-icon);\n",
       "}\n",
       "\n",
       "#sk-container-id-3 label.sk-toggleable__label-arrow:hover:before {\n",
       "  color: var(--sklearn-color-text);\n",
       "}\n",
       "\n",
       "/* Toggleable content - dropdown */\n",
       "\n",
       "#sk-container-id-3 div.sk-toggleable__content {\n",
       "  max-height: 0;\n",
       "  max-width: 0;\n",
       "  overflow: hidden;\n",
       "  text-align: left;\n",
       "  /* unfitted */\n",
       "  background-color: var(--sklearn-color-unfitted-level-0);\n",
       "}\n",
       "\n",
       "#sk-container-id-3 div.sk-toggleable__content.fitted {\n",
       "  /* fitted */\n",
       "  background-color: var(--sklearn-color-fitted-level-0);\n",
       "}\n",
       "\n",
       "#sk-container-id-3 div.sk-toggleable__content pre {\n",
       "  margin: 0.2em;\n",
       "  border-radius: 0.25em;\n",
       "  color: var(--sklearn-color-text);\n",
       "  /* unfitted */\n",
       "  background-color: var(--sklearn-color-unfitted-level-0);\n",
       "}\n",
       "\n",
       "#sk-container-id-3 div.sk-toggleable__content.fitted pre {\n",
       "  /* unfitted */\n",
       "  background-color: var(--sklearn-color-fitted-level-0);\n",
       "}\n",
       "\n",
       "#sk-container-id-3 input.sk-toggleable__control:checked~div.sk-toggleable__content {\n",
       "  /* Expand drop-down */\n",
       "  max-height: 200px;\n",
       "  max-width: 100%;\n",
       "  overflow: auto;\n",
       "}\n",
       "\n",
       "#sk-container-id-3 input.sk-toggleable__control:checked~label.sk-toggleable__label-arrow:before {\n",
       "  content: \"▾\";\n",
       "}\n",
       "\n",
       "/* Pipeline/ColumnTransformer-specific style */\n",
       "\n",
       "#sk-container-id-3 div.sk-label input.sk-toggleable__control:checked~label.sk-toggleable__label {\n",
       "  color: var(--sklearn-color-text);\n",
       "  background-color: var(--sklearn-color-unfitted-level-2);\n",
       "}\n",
       "\n",
       "#sk-container-id-3 div.sk-label.fitted input.sk-toggleable__control:checked~label.sk-toggleable__label {\n",
       "  background-color: var(--sklearn-color-fitted-level-2);\n",
       "}\n",
       "\n",
       "/* Estimator-specific style */\n",
       "\n",
       "/* Colorize estimator box */\n",
       "#sk-container-id-3 div.sk-estimator input.sk-toggleable__control:checked~label.sk-toggleable__label {\n",
       "  /* unfitted */\n",
       "  background-color: var(--sklearn-color-unfitted-level-2);\n",
       "}\n",
       "\n",
       "#sk-container-id-3 div.sk-estimator.fitted input.sk-toggleable__control:checked~label.sk-toggleable__label {\n",
       "  /* fitted */\n",
       "  background-color: var(--sklearn-color-fitted-level-2);\n",
       "}\n",
       "\n",
       "#sk-container-id-3 div.sk-label label.sk-toggleable__label,\n",
       "#sk-container-id-3 div.sk-label label {\n",
       "  /* The background is the default theme color */\n",
       "  color: var(--sklearn-color-text-on-default-background);\n",
       "}\n",
       "\n",
       "/* On hover, darken the color of the background */\n",
       "#sk-container-id-3 div.sk-label:hover label.sk-toggleable__label {\n",
       "  color: var(--sklearn-color-text);\n",
       "  background-color: var(--sklearn-color-unfitted-level-2);\n",
       "}\n",
       "\n",
       "/* Label box, darken color on hover, fitted */\n",
       "#sk-container-id-3 div.sk-label.fitted:hover label.sk-toggleable__label.fitted {\n",
       "  color: var(--sklearn-color-text);\n",
       "  background-color: var(--sklearn-color-fitted-level-2);\n",
       "}\n",
       "\n",
       "/* Estimator label */\n",
       "\n",
       "#sk-container-id-3 div.sk-label label {\n",
       "  font-family: monospace;\n",
       "  font-weight: bold;\n",
       "  display: inline-block;\n",
       "  line-height: 1.2em;\n",
       "}\n",
       "\n",
       "#sk-container-id-3 div.sk-label-container {\n",
       "  text-align: center;\n",
       "}\n",
       "\n",
       "/* Estimator-specific */\n",
       "#sk-container-id-3 div.sk-estimator {\n",
       "  font-family: monospace;\n",
       "  border: 1px dotted var(--sklearn-color-border-box);\n",
       "  border-radius: 0.25em;\n",
       "  box-sizing: border-box;\n",
       "  margin-bottom: 0.5em;\n",
       "  /* unfitted */\n",
       "  background-color: var(--sklearn-color-unfitted-level-0);\n",
       "}\n",
       "\n",
       "#sk-container-id-3 div.sk-estimator.fitted {\n",
       "  /* fitted */\n",
       "  background-color: var(--sklearn-color-fitted-level-0);\n",
       "}\n",
       "\n",
       "/* on hover */\n",
       "#sk-container-id-3 div.sk-estimator:hover {\n",
       "  /* unfitted */\n",
       "  background-color: var(--sklearn-color-unfitted-level-2);\n",
       "}\n",
       "\n",
       "#sk-container-id-3 div.sk-estimator.fitted:hover {\n",
       "  /* fitted */\n",
       "  background-color: var(--sklearn-color-fitted-level-2);\n",
       "}\n",
       "\n",
       "/* Specification for estimator info (e.g. \"i\" and \"?\") */\n",
       "\n",
       "/* Common style for \"i\" and \"?\" */\n",
       "\n",
       ".sk-estimator-doc-link,\n",
       "a:link.sk-estimator-doc-link,\n",
       "a:visited.sk-estimator-doc-link {\n",
       "  float: right;\n",
       "  font-size: smaller;\n",
       "  line-height: 1em;\n",
       "  font-family: monospace;\n",
       "  background-color: var(--sklearn-color-background);\n",
       "  border-radius: 1em;\n",
       "  height: 1em;\n",
       "  width: 1em;\n",
       "  text-decoration: none !important;\n",
       "  margin-left: 1ex;\n",
       "  /* unfitted */\n",
       "  border: var(--sklearn-color-unfitted-level-1) 1pt solid;\n",
       "  color: var(--sklearn-color-unfitted-level-1);\n",
       "}\n",
       "\n",
       ".sk-estimator-doc-link.fitted,\n",
       "a:link.sk-estimator-doc-link.fitted,\n",
       "a:visited.sk-estimator-doc-link.fitted {\n",
       "  /* fitted */\n",
       "  border: var(--sklearn-color-fitted-level-1) 1pt solid;\n",
       "  color: var(--sklearn-color-fitted-level-1);\n",
       "}\n",
       "\n",
       "/* On hover */\n",
       "div.sk-estimator:hover .sk-estimator-doc-link:hover,\n",
       ".sk-estimator-doc-link:hover,\n",
       "div.sk-label-container:hover .sk-estimator-doc-link:hover,\n",
       ".sk-estimator-doc-link:hover {\n",
       "  /* unfitted */\n",
       "  background-color: var(--sklearn-color-unfitted-level-3);\n",
       "  color: var(--sklearn-color-background);\n",
       "  text-decoration: none;\n",
       "}\n",
       "\n",
       "div.sk-estimator.fitted:hover .sk-estimator-doc-link.fitted:hover,\n",
       ".sk-estimator-doc-link.fitted:hover,\n",
       "div.sk-label-container:hover .sk-estimator-doc-link.fitted:hover,\n",
       ".sk-estimator-doc-link.fitted:hover {\n",
       "  /* fitted */\n",
       "  background-color: var(--sklearn-color-fitted-level-3);\n",
       "  color: var(--sklearn-color-background);\n",
       "  text-decoration: none;\n",
       "}\n",
       "\n",
       "/* Span, style for the box shown on hovering the info icon */\n",
       ".sk-estimator-doc-link span {\n",
       "  display: none;\n",
       "  z-index: 9999;\n",
       "  position: relative;\n",
       "  font-weight: normal;\n",
       "  right: .2ex;\n",
       "  padding: .5ex;\n",
       "  margin: .5ex;\n",
       "  width: min-content;\n",
       "  min-width: 20ex;\n",
       "  max-width: 50ex;\n",
       "  color: var(--sklearn-color-text);\n",
       "  box-shadow: 2pt 2pt 4pt #999;\n",
       "  /* unfitted */\n",
       "  background: var(--sklearn-color-unfitted-level-0);\n",
       "  border: .5pt solid var(--sklearn-color-unfitted-level-3);\n",
       "}\n",
       "\n",
       ".sk-estimator-doc-link.fitted span {\n",
       "  /* fitted */\n",
       "  background: var(--sklearn-color-fitted-level-0);\n",
       "  border: var(--sklearn-color-fitted-level-3);\n",
       "}\n",
       "\n",
       ".sk-estimator-doc-link:hover span {\n",
       "  display: block;\n",
       "}\n",
       "\n",
       "/* \"?\"-specific style due to the `<a>` HTML tag */\n",
       "\n",
       "#sk-container-id-3 a.estimator_doc_link {\n",
       "  float: right;\n",
       "  font-size: 1rem;\n",
       "  line-height: 1em;\n",
       "  font-family: monospace;\n",
       "  background-color: var(--sklearn-color-background);\n",
       "  border-radius: 1rem;\n",
       "  height: 1rem;\n",
       "  width: 1rem;\n",
       "  text-decoration: none;\n",
       "  /* unfitted */\n",
       "  color: var(--sklearn-color-unfitted-level-1);\n",
       "  border: var(--sklearn-color-unfitted-level-1) 1pt solid;\n",
       "}\n",
       "\n",
       "#sk-container-id-3 a.estimator_doc_link.fitted {\n",
       "  /* fitted */\n",
       "  border: var(--sklearn-color-fitted-level-1) 1pt solid;\n",
       "  color: var(--sklearn-color-fitted-level-1);\n",
       "}\n",
       "\n",
       "/* On hover */\n",
       "#sk-container-id-3 a.estimator_doc_link:hover {\n",
       "  /* unfitted */\n",
       "  background-color: var(--sklearn-color-unfitted-level-3);\n",
       "  color: var(--sklearn-color-background);\n",
       "  text-decoration: none;\n",
       "}\n",
       "\n",
       "#sk-container-id-3 a.estimator_doc_link.fitted:hover {\n",
       "  /* fitted */\n",
       "  background-color: var(--sklearn-color-fitted-level-3);\n",
       "}\n",
       "</style><div id=\"sk-container-id-3\" class=\"sk-top-container\"><div class=\"sk-text-repr-fallback\"><pre>DecisionTreeRegressor(max_depth=4)</pre><b>In a Jupyter environment, please rerun this cell to show the HTML representation or trust the notebook. <br />On GitHub, the HTML representation is unable to render, please try loading this page with nbviewer.org.</b></div><div class=\"sk-container\" hidden><div class=\"sk-item\"><div class=\"sk-estimator fitted sk-toggleable\"><input class=\"sk-toggleable__control sk-hidden--visually\" id=\"sk-estimator-id-3\" type=\"checkbox\" checked><label for=\"sk-estimator-id-3\" class=\"sk-toggleable__label fitted sk-toggleable__label-arrow fitted\">&nbsp;&nbsp;DecisionTreeRegressor<a class=\"sk-estimator-doc-link fitted\" rel=\"noreferrer\" target=\"_blank\" href=\"https://scikit-learn.org/1.5/modules/generated/sklearn.tree.DecisionTreeRegressor.html\">?<span>Documentation for DecisionTreeRegressor</span></a><span class=\"sk-estimator-doc-link fitted\">i<span>Fitted</span></span></label><div class=\"sk-toggleable__content fitted\"><pre>DecisionTreeRegressor(max_depth=4)</pre></div> </div></div></div></div>"
      ],
      "text/plain": [
       "DecisionTreeRegressor(max_depth=4)"
      ]
     },
     "execution_count": 91,
     "metadata": {},
     "output_type": "execute_result"
    }
   ],
   "source": [
    "model.fit(x_train , y_train)"
   ]
  },
  {
   "cell_type": "markdown",
   "id": "e61678f1-8dd1-4715-9205-9316f03f310a",
   "metadata": {},
   "source": [
    "# Find the R2_score"
   ]
  },
  {
   "cell_type": "code",
   "execution_count": 92,
   "id": "7495216d-f347-41e7-b01a-b91127ce706c",
   "metadata": {},
   "outputs": [],
   "source": [
    "from sklearn.metrics import r2_score"
   ]
  },
  {
   "cell_type": "code",
   "execution_count": 93,
   "id": "584be0d3-c9bc-405d-8290-24cc8e96583f",
   "metadata": {},
   "outputs": [
    {
     "name": "stdout",
     "output_type": "stream",
     "text": [
      "r2_score_of_trained_data :  0.9470259177816888\n"
     ]
    }
   ],
   "source": [
    "trained_data = model.predict(x_train)\n",
    "r2_score_of_trained_data = r2_score(y_train,trained_data)\n",
    "print(\"r2_score_of_trained_data : \" ,r2_score_of_trained_data)"
   ]
  },
  {
   "cell_type": "code",
   "execution_count": 94,
   "id": "64b19f60-d3cb-46cb-b863-f7026d3c2763",
   "metadata": {},
   "outputs": [
    {
     "name": "stdout",
     "output_type": "stream",
     "text": [
      "r2_score_of_tested_data :  0.9315167286594709\n"
     ]
    }
   ],
   "source": [
    "tested_data = model.predict(x_test)\n",
    "r2_score_of_tested_data = r2_score(y_test,tested_data)\n",
    "print(\"r2_score_of_tested_data : \" ,r2_score_of_tested_data)"
   ]
  },
  {
   "cell_type": "code",
   "execution_count": 95,
   "id": "24de5e7b-1d19-4a84-bba9-e6f2fec67bb7",
   "metadata": {},
   "outputs": [
    {
     "name": "stdout",
     "output_type": "stream",
     "text": [
      "[8225.89333333]\n"
     ]
    },
    {
     "name": "stderr",
     "output_type": "stream",
     "text": [
      "C:\\Users\\ma516\\anaconda3\\Lib\\site-packages\\sklearn\\base.py:493: UserWarning: X does not have valid feature names, but DecisionTreeRegressor was fitted with feature names\n",
      "  warnings.warn(\n"
     ]
    }
   ],
   "source": [
    "# input our data\n",
    "input_data = (3995.0,\t83971\t,12.330000,\t2626\t,0.390000,\t280.0,\t299.90,\t64,\t8.000000 )\n",
    "# convert our data into array\n",
    "arrayed_data = np.asarray(input_data)\n",
    "# Reshaped our Data\n",
    "reshaped_data = arrayed_data.reshape(1,-1)\n",
    "# predict our data\n",
    "prediction =  model.predict(reshaped_data)\n",
    "print(prediction)"
   ]
  },
  {
   "cell_type": "markdown",
   "id": "6ee7f43b-7632-4525-b101-e1707a081ae3",
   "metadata": {},
   "source": [
    "# make a model file to connect our data"
   ]
  },
  {
   "cell_type": "code",
   "execution_count": 96,
   "id": "58652f0f-a7ac-44b3-b78f-26b390d10b33",
   "metadata": {},
   "outputs": [],
   "source": [
    "import pickle"
   ]
  },
  {
   "cell_type": "code",
   "execution_count": 97,
   "id": "23021470-9760-4735-83fb-342fe3374acb",
   "metadata": {},
   "outputs": [],
   "source": [
    "pickle.dump(model , open('cpu_price1.sav' , 'wb'))"
   ]
  },
  {
   "cell_type": "code",
   "execution_count": 98,
   "id": "8ca74bcc-971e-4be7-808d-ce1fdbad1d86",
   "metadata": {},
   "outputs": [],
   "source": [
    "loaded_model = pickle.load(open('cpu_price1.sav' , 'rb'))"
   ]
  },
  {
   "cell_type": "code",
   "execution_count": 99,
   "id": "b2fcfbbe-57b4-4554-8650-512e2c087f22",
   "metadata": {},
   "outputs": [
    {
     "name": "stdout",
     "output_type": "stream",
     "text": [
      "[8225.89333333]\n"
     ]
    },
    {
     "name": "stderr",
     "output_type": "stream",
     "text": [
      "C:\\Users\\ma516\\anaconda3\\Lib\\site-packages\\sklearn\\base.py:493: UserWarning: X does not have valid feature names, but DecisionTreeRegressor was fitted with feature names\n",
      "  warnings.warn(\n"
     ]
    }
   ],
   "source": [
    "input_data = (3995.0,\t83971\t,12.330000,\t2626\t,0.390000,\t280.0,\t299.90,\t64,\t8.000000 )\n",
    "arrayed_data = np.asarray(input_data)\n",
    "reshaped_data = arrayed_data.reshape(1,-1)\n",
    "prediction =  model.predict(reshaped_data)\n",
    "print(prediction)"
   ]
  },
  {
   "cell_type": "code",
   "execution_count": null,
   "id": "9bec065b-339d-4991-bfbf-7a35c71d32cd",
   "metadata": {},
   "outputs": [],
   "source": []
  },
  {
   "cell_type": "code",
   "execution_count": null,
   "id": "97462f10-1b62-4748-8207-af61e2703b73",
   "metadata": {},
   "outputs": [],
   "source": []
  },
  {
   "cell_type": "code",
   "execution_count": null,
   "id": "3ea64af0-c9be-4f6c-983e-33a4a3c594ba",
   "metadata": {},
   "outputs": [],
   "source": []
  }
 ],
 "metadata": {
  "kernelspec": {
   "display_name": "Python [conda env:base] *",
   "language": "python",
   "name": "conda-base-py"
  },
  "language_info": {
   "codemirror_mode": {
    "name": "ipython",
    "version": 3
   },
   "file_extension": ".py",
   "mimetype": "text/x-python",
   "name": "python",
   "nbconvert_exporter": "python",
   "pygments_lexer": "ipython3",
   "version": "3.12.7"
  }
 },
 "nbformat": 4,
 "nbformat_minor": 5
}
