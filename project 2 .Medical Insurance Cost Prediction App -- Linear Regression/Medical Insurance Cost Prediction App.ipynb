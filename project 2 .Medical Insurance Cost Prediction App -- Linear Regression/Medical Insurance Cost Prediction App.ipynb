{
 "cells": [
  {
   "cell_type": "markdown",
   "id": "99651da9-ec16-4761-afbd-9770eef6534a",
   "metadata": {},
   "source": [
    "------------------------------------------------Medical Insurance Cost Prediction App---------------------------------------------------------"
   ]
  },
  {
   "cell_type": "code",
   "execution_count": 181,
   "id": "1c3adbd2-b5ce-485b-bd5a-d988c6f7ebde",
   "metadata": {},
   "outputs": [],
   "source": [
    "#----------------------------------------------------import Libraries-------------------------------------------------------------------\n",
    "import numpy as np\n",
    "import pandas as pd\n",
    "import matplotlib.pyplot as plt\n",
    "import seaborn as sns\n",
    "from sklearn.linear_model import LinearRegression\n",
    "from sklearn.model_selection import train_test_split\n",
    "from sklearn.metrics import  r2_score\n",
    "from sklearn.preprocessing import StandardScaler"
   ]
  },
  {
   "cell_type": "code",
   "execution_count": 182,
   "id": "bcb5e6d8-4e03-4563-9d85-320c7d4e2d24",
   "metadata": {},
   "outputs": [],
   "source": [
    "data  = pd.read_csv(r\"C:\\Users\\ma516\\Downloads\\insurance.csv\")"
   ]
  },
  {
   "cell_type": "code",
   "execution_count": 183,
   "id": "597dd9fe-df9f-4f51-a46a-6fb73d3ef278",
   "metadata": {},
   "outputs": [
    {
     "data": {
      "text/html": [
       "<div>\n",
       "<style scoped>\n",
       "    .dataframe tbody tr th:only-of-type {\n",
       "        vertical-align: middle;\n",
       "    }\n",
       "\n",
       "    .dataframe tbody tr th {\n",
       "        vertical-align: top;\n",
       "    }\n",
       "\n",
       "    .dataframe thead th {\n",
       "        text-align: right;\n",
       "    }\n",
       "</style>\n",
       "<table border=\"1\" class=\"dataframe\">\n",
       "  <thead>\n",
       "    <tr style=\"text-align: right;\">\n",
       "      <th></th>\n",
       "      <th>age</th>\n",
       "      <th>sex</th>\n",
       "      <th>bmi</th>\n",
       "      <th>children</th>\n",
       "      <th>smoker</th>\n",
       "      <th>region</th>\n",
       "      <th>charges</th>\n",
       "    </tr>\n",
       "  </thead>\n",
       "  <tbody>\n",
       "    <tr>\n",
       "      <th>0</th>\n",
       "      <td>19</td>\n",
       "      <td>female</td>\n",
       "      <td>27.900</td>\n",
       "      <td>0</td>\n",
       "      <td>yes</td>\n",
       "      <td>southwest</td>\n",
       "      <td>16884.92400</td>\n",
       "    </tr>\n",
       "    <tr>\n",
       "      <th>1</th>\n",
       "      <td>18</td>\n",
       "      <td>male</td>\n",
       "      <td>33.770</td>\n",
       "      <td>1</td>\n",
       "      <td>no</td>\n",
       "      <td>southeast</td>\n",
       "      <td>1725.55230</td>\n",
       "    </tr>\n",
       "    <tr>\n",
       "      <th>2</th>\n",
       "      <td>28</td>\n",
       "      <td>male</td>\n",
       "      <td>33.000</td>\n",
       "      <td>3</td>\n",
       "      <td>no</td>\n",
       "      <td>southeast</td>\n",
       "      <td>4449.46200</td>\n",
       "    </tr>\n",
       "    <tr>\n",
       "      <th>3</th>\n",
       "      <td>33</td>\n",
       "      <td>male</td>\n",
       "      <td>22.705</td>\n",
       "      <td>0</td>\n",
       "      <td>no</td>\n",
       "      <td>northwest</td>\n",
       "      <td>21984.47061</td>\n",
       "    </tr>\n",
       "    <tr>\n",
       "      <th>4</th>\n",
       "      <td>32</td>\n",
       "      <td>male</td>\n",
       "      <td>28.880</td>\n",
       "      <td>0</td>\n",
       "      <td>no</td>\n",
       "      <td>northwest</td>\n",
       "      <td>3866.85520</td>\n",
       "    </tr>\n",
       "  </tbody>\n",
       "</table>\n",
       "</div>"
      ],
      "text/plain": [
       "   age     sex     bmi  children smoker     region      charges\n",
       "0   19  female  27.900         0    yes  southwest  16884.92400\n",
       "1   18    male  33.770         1     no  southeast   1725.55230\n",
       "2   28    male  33.000         3     no  southeast   4449.46200\n",
       "3   33    male  22.705         0     no  northwest  21984.47061\n",
       "4   32    male  28.880         0     no  northwest   3866.85520"
      ]
     },
     "execution_count": 183,
     "metadata": {},
     "output_type": "execute_result"
    }
   ],
   "source": [
    "data.head()"
   ]
  },
  {
   "cell_type": "code",
   "execution_count": 184,
   "id": "77372a63-ce70-45d8-b346-56dc8f125dff",
   "metadata": {},
   "outputs": [
    {
     "data": {
      "text/plain": [
       "age         0\n",
       "sex         0\n",
       "bmi         0\n",
       "children    0\n",
       "smoker      0\n",
       "region      0\n",
       "charges     0\n",
       "dtype: int64"
      ]
     },
     "execution_count": 184,
     "metadata": {},
     "output_type": "execute_result"
    }
   ],
   "source": [
    "data.isnull().sum()"
   ]
  },
  {
   "cell_type": "code",
   "execution_count": 185,
   "id": "016b7785-4749-46ee-9ed3-def880fe3722",
   "metadata": {},
   "outputs": [],
   "source": [
    "# -----------------\n",
    "# encoding our data\n",
    "# -----------------"
   ]
  },
  {
   "cell_type": "code",
   "execution_count": 186,
   "id": "27177105-e4ab-433b-a00c-d45607afe6ff",
   "metadata": {},
   "outputs": [
    {
     "name": "stderr",
     "output_type": "stream",
     "text": [
      "C:\\Users\\ma516\\AppData\\Local\\Temp\\ipykernel_19372\\2444003651.py:1: FutureWarning: Downcasting behavior in `replace` is deprecated and will be removed in a future version. To retain the old behavior, explicitly call `result.infer_objects(copy=False)`. To opt-in to the future behavior, set `pd.set_option('future.no_silent_downcasting', True)`\n",
      "  data.replace({\"sex\": {\"male\": 0, \"female\": 1}}, inplace=True)\n",
      "C:\\Users\\ma516\\AppData\\Local\\Temp\\ipykernel_19372\\2444003651.py:2: FutureWarning: Downcasting behavior in `replace` is deprecated and will be removed in a future version. To retain the old behavior, explicitly call `result.infer_objects(copy=False)`. To opt-in to the future behavior, set `pd.set_option('future.no_silent_downcasting', True)`\n",
      "  data.replace({\"smoker\": {\"yes\": 0, \"no\": 1}}, inplace=True)\n",
      "C:\\Users\\ma516\\AppData\\Local\\Temp\\ipykernel_19372\\2444003651.py:3: FutureWarning: Downcasting behavior in `replace` is deprecated and will be removed in a future version. To retain the old behavior, explicitly call `result.infer_objects(copy=False)`. To opt-in to the future behavior, set `pd.set_option('future.no_silent_downcasting', True)`\n",
      "  data.replace({'region': {'southeast': 0, 'southwest': 1, 'northeast': 2, 'northwest': 3}}, inplace=True)\n"
     ]
    }
   ],
   "source": [
    "data.replace({\"sex\": {\"male\": 0, \"female\": 1}}, inplace=True)\n",
    "data.replace({\"smoker\": {\"yes\": 0, \"no\": 1}}, inplace=True)\n",
    "data.replace({'region': {'southeast': 0, 'southwest': 1, 'northeast': 2, 'northwest': 3}}, inplace=True)\n",
    "\n",
    "data = data.infer_objects(copy=False)\n"
   ]
  },
  {
   "cell_type": "code",
   "execution_count": 187,
   "id": "36de5bc6-59b1-4800-ab23-2594e28eab3e",
   "metadata": {},
   "outputs": [
    {
     "name": "stdout",
     "output_type": "stream",
     "text": [
      "      age  sex     bmi  children  smoker  region      charges\n",
      "0      19    1  27.900         0       0       1  16884.92400\n",
      "1      18    0  33.770         1       1       0   1725.55230\n",
      "2      28    0  33.000         3       1       0   4449.46200\n",
      "3      33    0  22.705         0       1       3  21984.47061\n",
      "4      32    0  28.880         0       1       3   3866.85520\n",
      "...   ...  ...     ...       ...     ...     ...          ...\n",
      "1333   50    0  30.970         3       1       3  10600.54830\n",
      "1334   18    1  31.920         0       1       2   2205.98080\n",
      "1335   18    1  36.850         0       1       0   1629.83350\n",
      "1336   21    1  25.800         0       1       1   2007.94500\n",
      "1337   61    1  29.070         0       0       3  29141.36030\n",
      "\n",
      "[1338 rows x 7 columns]\n"
     ]
    }
   ],
   "source": [
    "print(data)"
   ]
  },
  {
   "cell_type": "code",
   "execution_count": 188,
   "id": "3de3c15d-c81a-4b70-aabf-98cc2e67ad2e",
   "metadata": {},
   "outputs": [],
   "source": [
    "# ----------------------------\n",
    "# Find the value of x and y\n",
    "# ----------------------------"
   ]
  },
  {
   "cell_type": "code",
   "execution_count": 189,
   "id": "2f620cb7-37c5-489c-80ee-bc8d4060241f",
   "metadata": {},
   "outputs": [],
   "source": [
    "x = data.drop(columns=\"charges\" , axis = 1)\n",
    "y = data[\"charges\"]"
   ]
  },
  {
   "cell_type": "code",
   "execution_count": 190,
   "id": "b4c52f4b-322c-42aa-bb50-a61e55d778c0",
   "metadata": {},
   "outputs": [
    {
     "name": "stdout",
     "output_type": "stream",
     "text": [
      "      age  sex     bmi  children  smoker  region\n",
      "0      19    1  27.900         0       0       1\n",
      "1      18    0  33.770         1       1       0\n",
      "2      28    0  33.000         3       1       0\n",
      "3      33    0  22.705         0       1       3\n",
      "4      32    0  28.880         0       1       3\n",
      "...   ...  ...     ...       ...     ...     ...\n",
      "1333   50    0  30.970         3       1       3\n",
      "1334   18    1  31.920         0       1       2\n",
      "1335   18    1  36.850         0       1       0\n",
      "1336   21    1  25.800         0       1       1\n",
      "1337   61    1  29.070         0       0       3\n",
      "\n",
      "[1338 rows x 6 columns]\n",
      "0       16884.92400\n",
      "1        1725.55230\n",
      "2        4449.46200\n",
      "3       21984.47061\n",
      "4        3866.85520\n",
      "           ...     \n",
      "1333    10600.54830\n",
      "1334     2205.98080\n",
      "1335     1629.83350\n",
      "1336     2007.94500\n",
      "1337    29141.36030\n",
      "Name: charges, Length: 1338, dtype: float64\n"
     ]
    }
   ],
   "source": [
    "print(x)\n",
    "print(y)"
   ]
  },
  {
   "cell_type": "code",
   "execution_count": 191,
   "id": "ba1e1015-3e9b-4743-a4b6-aad641a1e486",
   "metadata": {},
   "outputs": [
    {
     "name": "stdout",
     "output_type": "stream",
     "text": [
      "(1070, 6) (1070,) (268, 6) (268,)\n"
     ]
    }
   ],
   "source": [
    "#--------------------------------------------------------------Train Our Data ----------------------------------------\n",
    "x_train ,x_test , y_train , y_test  =  train_test_split(x , y , test_size= 0.2 ,random_state=2)\n",
    "print(x_train.shape , y_train.shape , x_test.shape , y_test.shape)"
   ]
  },
  {
   "cell_type": "code",
   "execution_count": 192,
   "id": "49688471-799a-43cb-9607-fd068870c6d1",
   "metadata": {},
   "outputs": [],
   "source": [
    "# ----------------------------\n",
    "# Find the accuracy Score\n",
    "# ----------------------------"
   ]
  },
  {
   "cell_type": "code",
   "execution_count": 193,
   "id": "b128f106-e0b5-4184-8e57-41e72123ac1a",
   "metadata": {},
   "outputs": [],
   "source": [
    "#---------------------------------------------------Trained Model --------------------------------------------------------------------\n",
    "model = LinearRegression()\n",
    "fitted_data = model.fit(x_train , y_train)"
   ]
  },
  {
   "cell_type": "code",
   "execution_count": 194,
   "id": "a888693a-942a-489a-b740-c5d44b20d0b6",
   "metadata": {},
   "outputs": [],
   "source": [
    "trained_data_1= model.predict(x_train)\n",
    "accuracy_score_of_trained_data  =  r2_score(y_train , trained_data_1)"
   ]
  },
  {
   "cell_type": "code",
   "execution_count": 195,
   "id": "ee3c9656-0a92-4138-b471-c6c74dcdaf1a",
   "metadata": {},
   "outputs": [
    {
     "name": "stdout",
     "output_type": "stream",
     "text": [
      "accuracy_score_of_trained_data :  0.751505643411174\n"
     ]
    }
   ],
   "source": [
    "print(\"accuracy_score_of_trained_data : \" , accuracy_score_of_trained_data)"
   ]
  },
  {
   "cell_type": "code",
   "execution_count": 196,
   "id": "0df45af5-b99b-49fa-a433-e952c22305e2",
   "metadata": {},
   "outputs": [],
   "source": [
    "trained_data_2= model.predict(x_test)\n",
    "accuracy_score_of_test_data  =  r2_score(y_test , trained_data_2)"
   ]
  },
  {
   "cell_type": "code",
   "execution_count": 197,
   "id": "4c10ac44-532e-420e-b2cc-7784be15d685",
   "metadata": {},
   "outputs": [
    {
     "name": "stdout",
     "output_type": "stream",
     "text": [
      "accuracy_score_of_test_data :  0.7447273869684077\n"
     ]
    }
   ],
   "source": [
    "print(\"accuracy_score_of_test_data : \" , accuracy_score_of_test_data)"
   ]
  },
  {
   "cell_type": "code",
   "execution_count": 198,
   "id": "4c1f0659-d88f-4f78-b018-890e53f09bb7",
   "metadata": {},
   "outputs": [
    {
     "name": "stdout",
     "output_type": "stream",
     "text": [
      "[1478.09056648]\n"
     ]
    },
    {
     "name": "stderr",
     "output_type": "stream",
     "text": [
      "C:\\Users\\ma516\\anaconda3\\Lib\\site-packages\\sklearn\\base.py:493: UserWarning: X does not have valid feature names, but LinearRegression was fitted with feature names\n",
      "  warnings.warn(\n"
     ]
    }
   ],
   "source": [
    "input_data = (21,1,25.800 ,0, 1 , 1)\n",
    "array_data = np.asarray(input_data)\n",
    "reshaped_data = array_data.reshape(1,-1)\n",
    "prediction =  model.predict(reshaped_data)\n",
    "print(prediction)\n"
   ]
  },
  {
   "cell_type": "code",
   "execution_count": 199,
   "id": "6d91b5f8-e207-4a4d-8afc-79f8a5901b79",
   "metadata": {},
   "outputs": [],
   "source": [
    "import pickle"
   ]
  },
  {
   "cell_type": "code",
   "execution_count": 200,
   "id": "ce9b2261-691d-4600-ba92-c0d40dd386f3",
   "metadata": {},
   "outputs": [],
   "source": [
    "file_name = \"Model.sav\"\n",
    "pickle.dump(model , open(file_name , 'wb'))"
   ]
  },
  {
   "cell_type": "code",
   "execution_count": 201,
   "id": "95360f89-a00a-448b-ad91-885cf883b15f",
   "metadata": {},
   "outputs": [],
   "source": [
    "loaded_model  = pickle.load(open(\"Model.sav\" , \"rb\"))"
   ]
  },
  {
   "cell_type": "code",
   "execution_count": 202,
   "id": "a8522add-9e60-4d83-a76c-ec57841068db",
   "metadata": {},
   "outputs": [
    {
     "name": "stdout",
     "output_type": "stream",
     "text": [
      "[1478.09056648]\n"
     ]
    },
    {
     "name": "stderr",
     "output_type": "stream",
     "text": [
      "C:\\Users\\ma516\\anaconda3\\Lib\\site-packages\\sklearn\\base.py:493: UserWarning: X does not have valid feature names, but LinearRegression was fitted with feature names\n",
      "  warnings.warn(\n"
     ]
    }
   ],
   "source": [
    "input_data = (21,1,25.800 ,0, 1 , 1)\n",
    "array_data = np.asarray(input_data)\n",
    "reshaped_data = array_data.reshape(1,-1)\n",
    "prediction =  loaded_model.predict(reshaped_data)\n",
    "print(prediction)\n"
   ]
  },
  {
   "cell_type": "code",
   "execution_count": null,
   "id": "03d2876f-a3ce-45ca-8385-21c72e0633c7",
   "metadata": {},
   "outputs": [],
   "source": []
  }
 ],
 "metadata": {
  "kernelspec": {
   "display_name": "Python [conda env:base] *",
   "language": "python",
   "name": "conda-base-py"
  },
  "language_info": {
   "codemirror_mode": {
    "name": "ipython",
    "version": 3
   },
   "file_extension": ".py",
   "mimetype": "text/x-python",
   "name": "python",
   "nbconvert_exporter": "python",
   "pygments_lexer": "ipython3",
   "version": "3.12.7"
  }
 },
 "nbformat": 4,
 "nbformat_minor": 5
}
