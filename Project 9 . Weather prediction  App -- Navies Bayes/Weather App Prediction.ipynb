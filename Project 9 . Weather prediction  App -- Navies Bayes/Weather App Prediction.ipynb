{
 "cells": [
  {
   "cell_type": "markdown",
   "id": "d0b568ec-48df-4a66-a14f-458112dc6dce",
   "metadata": {},
   "source": [
    "# Weather App Prediction"
   ]
  },
  {
   "cell_type": "code",
   "execution_count": 8,
   "id": "347c387a-df44-4bc8-b661-e518a0484e28",
   "metadata": {},
   "outputs": [],
   "source": [
    "import numpy as np\n",
    "import pandas as pd\n",
    "from sklearn.preprocessing import LabelEncoder\n",
    "from sklearn.model_selection import  train_test_split\n",
    "from sklearn.naive_bayes import GaussianNB , MultinomialNB , BernoulliNB"
   ]
  },
  {
   "cell_type": "code",
   "execution_count": 9,
   "id": "c2b5c774-4743-4c24-ada8-80f9dd1cf847",
   "metadata": {},
   "outputs": [
    {
     "data": {
      "text/html": [
       "<div>\n",
       "<style scoped>\n",
       "    .dataframe tbody tr th:only-of-type {\n",
       "        vertical-align: middle;\n",
       "    }\n",
       "\n",
       "    .dataframe tbody tr th {\n",
       "        vertical-align: top;\n",
       "    }\n",
       "\n",
       "    .dataframe thead th {\n",
       "        text-align: right;\n",
       "    }\n",
       "</style>\n",
       "<table border=\"1\" class=\"dataframe\">\n",
       "  <thead>\n",
       "    <tr style=\"text-align: right;\">\n",
       "      <th></th>\n",
       "      <th>date</th>\n",
       "      <th>precipitation</th>\n",
       "      <th>temp_max</th>\n",
       "      <th>temp_min</th>\n",
       "      <th>wind</th>\n",
       "      <th>weather</th>\n",
       "    </tr>\n",
       "  </thead>\n",
       "  <tbody>\n",
       "    <tr>\n",
       "      <th>0</th>\n",
       "      <td>2012-01-01</td>\n",
       "      <td>0.0</td>\n",
       "      <td>12.8</td>\n",
       "      <td>5.0</td>\n",
       "      <td>4.7</td>\n",
       "      <td>drizzle</td>\n",
       "    </tr>\n",
       "    <tr>\n",
       "      <th>1</th>\n",
       "      <td>2012-01-02</td>\n",
       "      <td>10.9</td>\n",
       "      <td>10.6</td>\n",
       "      <td>2.8</td>\n",
       "      <td>4.5</td>\n",
       "      <td>rain</td>\n",
       "    </tr>\n",
       "    <tr>\n",
       "      <th>2</th>\n",
       "      <td>2012-01-03</td>\n",
       "      <td>0.8</td>\n",
       "      <td>11.7</td>\n",
       "      <td>7.2</td>\n",
       "      <td>2.3</td>\n",
       "      <td>rain</td>\n",
       "    </tr>\n",
       "    <tr>\n",
       "      <th>3</th>\n",
       "      <td>2012-01-04</td>\n",
       "      <td>20.3</td>\n",
       "      <td>12.2</td>\n",
       "      <td>5.6</td>\n",
       "      <td>4.7</td>\n",
       "      <td>rain</td>\n",
       "    </tr>\n",
       "    <tr>\n",
       "      <th>4</th>\n",
       "      <td>2012-01-05</td>\n",
       "      <td>1.3</td>\n",
       "      <td>8.9</td>\n",
       "      <td>2.8</td>\n",
       "      <td>6.1</td>\n",
       "      <td>rain</td>\n",
       "    </tr>\n",
       "  </tbody>\n",
       "</table>\n",
       "</div>"
      ],
      "text/plain": [
       "         date  precipitation  temp_max  temp_min  wind  weather\n",
       "0  2012-01-01            0.0      12.8       5.0   4.7  drizzle\n",
       "1  2012-01-02           10.9      10.6       2.8   4.5     rain\n",
       "2  2012-01-03            0.8      11.7       7.2   2.3     rain\n",
       "3  2012-01-04           20.3      12.2       5.6   4.7     rain\n",
       "4  2012-01-05            1.3       8.9       2.8   6.1     rain"
      ]
     },
     "execution_count": 9,
     "metadata": {},
     "output_type": "execute_result"
    }
   ],
   "source": [
    "data = pd.read_csv(r\"C:\\Users\\ma516\\OneDrive\\Desktop\\Machine Learning Projects\\Weather Prediction app\\seattle-weather.csv\")\n",
    "data.head()"
   ]
  },
  {
   "cell_type": "code",
   "execution_count": 10,
   "id": "9718883a-e4c6-4c04-93a1-b81355891fe9",
   "metadata": {},
   "outputs": [
    {
     "name": "stdout",
     "output_type": "stream",
     "text": [
      "weather\n",
      "rain       641\n",
      "sun        640\n",
      "fog        101\n",
      "drizzle     53\n",
      "snow        26\n",
      "Name: count, dtype: int64\n",
      "55.9\n"
     ]
    }
   ],
   "source": [
    "print(data['weather'].value_counts())\n",
    "print(data['precipitation'].max())\n"
   ]
  },
  {
   "cell_type": "code",
   "execution_count": 4,
   "id": "088c337f-89f6-43ea-a5f7-0b95620947e2",
   "metadata": {},
   "outputs": [
    {
     "data": {
      "text/plain": [
       "(1461, 6)"
      ]
     },
     "execution_count": 4,
     "metadata": {},
     "output_type": "execute_result"
    }
   ],
   "source": [
    "data.shape"
   ]
  },
  {
   "cell_type": "code",
   "execution_count": 5,
   "id": "de4cc35b-247a-4d12-9c1d-56692d7a77c6",
   "metadata": {},
   "outputs": [
    {
     "data": {
      "text/plain": [
       "date             0\n",
       "precipitation    0\n",
       "temp_max         0\n",
       "temp_min         0\n",
       "wind             0\n",
       "weather          0\n",
       "dtype: int64"
      ]
     },
     "execution_count": 5,
     "metadata": {},
     "output_type": "execute_result"
    }
   ],
   "source": [
    "data.isnull().sum()"
   ]
  },
  {
   "cell_type": "markdown",
   "id": "00a3b672-83e9-4045-8735-d406f99d17b5",
   "metadata": {},
   "source": [
    "# Encode Our Variable"
   ]
  },
  {
   "cell_type": "code",
   "execution_count": 11,
   "id": "d6873b71-8d44-47bd-ab6b-8285c6c60e61",
   "metadata": {},
   "outputs": [],
   "source": [
    "LE = LabelEncoder()"
   ]
  },
  {
   "cell_type": "code",
   "execution_count": 12,
   "id": "8fa5aea8-f1f6-4aa2-9ad2-1e62c5b39567",
   "metadata": {},
   "outputs": [],
   "source": [
    "data[\"precipitation\"] = LE.fit_transform(data['precipitation'])\n",
    "data['temp_max'] = LE.fit_transform(data['temp_max'])\n",
    "data[\"temp_min\"]  = LE.fit_transform(data['temp_min'])\n",
    "data['wind'] = LE.fit_transform(data[\"wind\"])\n",
    "data['weather'] = LE.fit_transform(data['weather'])"
   ]
  },
  {
   "cell_type": "code",
   "execution_count": 13,
   "id": "3a4e8bf1-ee85-4eea-94cf-bf144f096e9c",
   "metadata": {},
   "outputs": [
    {
     "data": {
      "text/plain": [
       "weather\n",
       "2    641\n",
       "4    640\n",
       "1    101\n",
       "0     53\n",
       "3     26\n",
       "Name: count, dtype: int64"
      ]
     },
     "execution_count": 13,
     "metadata": {},
     "output_type": "execute_result"
    }
   ],
   "source": [
    "data['weather'].value_counts()"
   ]
  },
  {
   "cell_type": "markdown",
   "id": "98db2e33-ff5f-4459-afa5-12f7acd8636f",
   "metadata": {},
   "source": [
    "# Make a Target and Feature Column"
   ]
  },
  {
   "cell_type": "code",
   "execution_count": 14,
   "id": "b21ef0b7-fdbe-41ae-a39f-060e9fe7b828",
   "metadata": {},
   "outputs": [],
   "source": [
    "x =  data.drop(columns=['date' , 'weather'] , axis = 1)\n",
    "y = data['weather']"
   ]
  },
  {
   "cell_type": "code",
   "execution_count": 15,
   "id": "15e760db-d3e3-4a83-b8e3-796385867c90",
   "metadata": {},
   "outputs": [
    {
     "name": "stdout",
     "output_type": "stream",
     "text": [
      "      precipitation  temp_max  temp_min  wind\n",
      "0                 0        25        30    43\n",
      "1                43        21        26    41\n",
      "2                 3        23        34    19\n",
      "3                74        24        31    43\n",
      "4                 5        18        26    57\n",
      "...             ...       ...       ...   ...\n",
      "1456             34        10        24    25\n",
      "1457              6        11        24     9\n",
      "1458              0        15        22    22\n",
      "1459              0        12        18    30\n",
      "1460              0        12        14    31\n",
      "\n",
      "[1461 rows x 4 columns]\n",
      "0       0\n",
      "1       2\n",
      "2       2\n",
      "3       2\n",
      "4       2\n",
      "       ..\n",
      "1456    2\n",
      "1457    2\n",
      "1458    1\n",
      "1459    4\n",
      "1460    4\n",
      "Name: weather, Length: 1461, dtype: int32\n"
     ]
    }
   ],
   "source": [
    "print(x)\n",
    "print(y)"
   ]
  },
  {
   "cell_type": "markdown",
   "id": "26c12c52-23cb-49cc-82da-e7d93afd35b9",
   "metadata": {},
   "source": [
    "# Trained Our Data"
   ]
  },
  {
   "cell_type": "code",
   "execution_count": 16,
   "id": "c2846db0-02f9-4b8c-9aea-987096e0fb81",
   "metadata": {},
   "outputs": [],
   "source": [
    "x_train , x_test , y_train , y_test = train_test_split(x,y,random_state=2,test_size=0.2)"
   ]
  },
  {
   "cell_type": "code",
   "execution_count": 17,
   "id": "e56ddce8-c6ea-4c44-99ba-440213e0f190",
   "metadata": {},
   "outputs": [
    {
     "name": "stdout",
     "output_type": "stream",
     "text": [
      "(1168, 4) (1168,) (1461, 4)\n"
     ]
    }
   ],
   "source": [
    "print(x_train.shape , y_train.shape , x.shape)"
   ]
  },
  {
   "cell_type": "markdown",
   "id": "47a6adc7-0d81-4af0-8a73-49306f77dd9d",
   "metadata": {},
   "source": [
    "# Tested All Model Score Which is predict most Accuratley"
   ]
  },
  {
   "cell_type": "code",
   "execution_count": 31,
   "id": "64c8c38b-3d92-44c5-b55d-18ba507e1420",
   "metadata": {},
   "outputs": [
    {
     "data": {
      "text/plain": [
       "0.8416095890410958"
      ]
     },
     "execution_count": 31,
     "metadata": {},
     "output_type": "execute_result"
    }
   ],
   "source": [
    "model1 = GaussianNB()\n",
    "model1.fit(x_train , y_train)\n",
    "model1.score(x_train , y_train)"
   ]
  },
  {
   "cell_type": "code",
   "execution_count": 32,
   "id": "e0462702-9f71-4e15-be84-da0950c0455e",
   "metadata": {},
   "outputs": [
    {
     "data": {
      "text/plain": [
       "0.711472602739726"
      ]
     },
     "execution_count": 32,
     "metadata": {},
     "output_type": "execute_result"
    }
   ],
   "source": [
    "model2 = MultinomialNB()\n",
    "model2.fit(x_train , y_train)\n",
    "model2.score(x_train , y_train)"
   ]
  },
  {
   "cell_type": "code",
   "execution_count": 33,
   "id": "e877504a-9e06-45b2-a71d-72e2b47ddca4",
   "metadata": {},
   "outputs": [
    {
     "data": {
      "text/plain": [
       "0.8398972602739726"
      ]
     },
     "execution_count": 33,
     "metadata": {},
     "output_type": "execute_result"
    }
   ],
   "source": [
    "model3 = BernoulliNB()\n",
    "model3.fit(x_train , y_train)\n",
    "model3.score(x_train , y_train)"
   ]
  },
  {
   "cell_type": "markdown",
   "id": "f2a94287-5e2f-46cf-95e5-460ccc33e943",
   "metadata": {},
   "source": [
    "# Tested our Model"
   ]
  },
  {
   "cell_type": "code",
   "execution_count": 40,
   "id": "84e2518a-7a5c-4d12-8c38-25a7e9fb1a44",
   "metadata": {},
   "outputs": [
    {
     "name": "stdout",
     "output_type": "stream",
     "text": [
      "[3]\n",
      "snow\n"
     ]
    },
    {
     "name": "stderr",
     "output_type": "stream",
     "text": [
      "C:\\Users\\ma516\\anaconda3\\Lib\\site-packages\\sklearn\\base.py:493: UserWarning: X does not have valid feature names, but GaussianNB was fitted with feature names\n",
      "  warnings.warn(\n"
     ]
    }
   ],
   "source": [
    "# Take a input From the user\n",
    "input_data =(15.2,-1.1,-2.8,1.6)\n",
    "# Convert into array\n",
    "array_data = np.asarray(input_data)\n",
    "# reshaped our data\n",
    "reshaped_data = array_data.reshape(1,-1)\n",
    "# predicted our Model\n",
    "prediction = model1.predict(reshaped_data)\n",
    "print(prediction)\n",
    "if(prediction == 0):\n",
    "    print(\"drizzling\")\n",
    "elif(prediction == 1):\n",
    "    print(\"FOG\")\n",
    "elif(prediction == 2):\n",
    "    print(\"rain\")\n",
    "elif(prediction == 3):\n",
    "    print(\"snow\")\n",
    "elif(prediction == 4):\n",
    "    print(\"sunny\")\n",
    "    "
   ]
  },
  {
   "cell_type": "markdown",
   "id": "f99a1208-cc32-4a21-b3ad-73b3f61b04a3",
   "metadata": {},
   "source": [
    "# Make a Sample to connect with Streamlit"
   ]
  },
  {
   "cell_type": "code",
   "execution_count": 41,
   "id": "e5330b3b-17c4-4d97-84cf-b9fa702c409c",
   "metadata": {},
   "outputs": [],
   "source": [
    "import pickle"
   ]
  },
  {
   "cell_type": "code",
   "execution_count": 43,
   "id": "da713c1a-7330-439c-8df6-9ef7169ce492",
   "metadata": {},
   "outputs": [],
   "source": [
    "pickle.dump(model1 , open(\"weather.sav\" , 'wb'))"
   ]
  },
  {
   "cell_type": "code",
   "execution_count": 44,
   "id": "556f0b47-bb94-49c5-bdf5-1b11e2038819",
   "metadata": {},
   "outputs": [],
   "source": [
    "loaded_model = pickle.load(open(\"weather.sav\" , 'rb'))"
   ]
  },
  {
   "cell_type": "code",
   "execution_count": 45,
   "id": "f96f7751-745f-4e1e-a6e4-114825a61b35",
   "metadata": {},
   "outputs": [
    {
     "name": "stdout",
     "output_type": "stream",
     "text": [
      "[3]\n",
      "snow\n"
     ]
    },
    {
     "name": "stderr",
     "output_type": "stream",
     "text": [
      "C:\\Users\\ma516\\anaconda3\\Lib\\site-packages\\sklearn\\base.py:493: UserWarning: X does not have valid feature names, but GaussianNB was fitted with feature names\n",
      "  warnings.warn(\n"
     ]
    }
   ],
   "source": [
    "input_data =(15.2,-1.1,-2.8,1.6)\n",
    "array_data = np.asarray(input_data)\n",
    "reshaped_data = array_data.reshape(1,-1)\n",
    "prediction = loaded_model.predict(reshaped_data)\n",
    "print(prediction)\n",
    "if(prediction == 0):\n",
    "    print(\"drizzling\")\n",
    "elif(prediction == 1):\n",
    "    print(\"FOG\")\n",
    "elif(prediction == 2):\n",
    "    print(\"rain\")\n",
    "elif(prediction == 3):\n",
    "    print(\"snow\")\n",
    "elif(prediction == 4):\n",
    "    print(\"sunny\")\n",
    "    "
   ]
  },
  {
   "cell_type": "code",
   "execution_count": null,
   "id": "c3e13c54-2a92-4854-abdf-a2d9ce7d63b2",
   "metadata": {},
   "outputs": [],
   "source": [
    "s"
   ]
  }
 ],
 "metadata": {
  "kernelspec": {
   "display_name": "Python [conda env:base] *",
   "language": "python",
   "name": "conda-base-py"
  },
  "language_info": {
   "codemirror_mode": {
    "name": "ipython",
    "version": 3
   },
   "file_extension": ".py",
   "mimetype": "text/x-python",
   "name": "python",
   "nbconvert_exporter": "python",
   "pygments_lexer": "ipython3",
   "version": "3.12.7"
  }
 },
 "nbformat": 4,
 "nbformat_minor": 5
}
