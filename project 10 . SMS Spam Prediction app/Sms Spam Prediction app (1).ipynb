{
 "cells": [
  {
   "cell_type": "code",
   "execution_count": 140,
   "id": "ccf3b65d-df6b-4384-b293-c369c2193224",
   "metadata": {},
   "outputs": [
    {
     "name": "stdout",
     "output_type": "stream",
     "text": [
      "Accuracy: 0.9605381165919282\n"
     ]
    }
   ],
   "source": [
    "import numpy as np\n",
    "import pandas as pd \n",
    "from sklearn.model_selection import train_test_split\n",
    "from sklearn.naive_bayes import MultinomialNB\n",
    "from sklearn.feature_extraction.text import TfidfVectorizer \n",
    "\n",
    "# Load dataset\n",
    "data = pd.read_csv(r\"C:\\Users\\ma516\\OneDrive\\Desktop\\Machine Learning Projects\\Sms Spam prediction app\\spam.csv\", encoding='cp1252')\n",
    "\n",
    "# Select relevant columns\n",
    "data = data[['v1', 'v2']]   # v1 = label, v2 = message\n",
    "\n",
    "# Encode labels: ham=0, spam=1\n",
    "data['v1'] = data['v1'].map({'ham': 0, 'spam': 1})\n",
    "\n",
    "# Features and labels\n",
    "X = data['v2']\n",
    "y = data['v1']\n",
    "\n",
    "# Train-test split\n",
    "X_train, X_test, y_train, y_test = train_test_split(X, y, test_size=0.2, random_state=2)\n",
    "\n",
    "# Vectorization\n",
    "tfidf = TfidfVectorizer(min_df=1, lowercase=True, stop_words='english')\n",
    "X_train_feature = tfidf.fit_transform(X_train)\n",
    "X_test_feature = tfidf.transform(X_test)\n",
    "\n",
    "# Train model (use MultinomialNB for text data)\n",
    "model = MultinomialNB()\n",
    "model.fit(X_train_feature, y_train)\n",
    "\n",
    "# Evaluate\n",
    "accuracy = model.score(X_test_feature, y_test)\n",
    "print(\"Accuracy:\", accuracy)\n"
   ]
  },
  {
   "cell_type": "code",
   "execution_count": 146,
   "id": "9eb9382b-4bbb-4135-abbe-9a08ed5d1569",
   "metadata": {},
   "outputs": [
    {
     "name": "stdout",
     "output_type": "stream",
     "text": [
      "[1]\n",
      "Sms is Spam\n"
     ]
    }
   ],
   "source": [
    "input_data = [\"Todays Vodafone numbers ending with 4882 are selected to a receive a å£350 award. If your number matches call 09064019014 to receive your å£350 award.\"]\n",
    "Transformed_data = tfidf.transform(input_data)\n",
    "prediction = model.predict(Transformed_data)\n",
    "print(prediction)\n",
    "if (prediction == 0 ):\n",
    "    print(\"Sms is Ham\")\n",
    "else:\n",
    "    print(\"Sms is Spam\")"
   ]
  },
  {
   "cell_type": "code",
   "execution_count": 151,
   "id": "43044bb6-58ee-4539-b5be-06eed7c03e6e",
   "metadata": {},
   "outputs": [],
   "source": [
    "import pickle\n",
    "pickle.dump(model , open(\"Sms.sav\" , 'wb'))\n",
    "pickle.dump(tfidf , open('tfidf_SMS.sav' , 'wb'))\n",
    "loaded_model = pickle.load(open(\"Sms.sav\" , 'rb'))\n",
    "Tfidf_model = pickle.load(open('tfidf_SMS.sav' , \"rb\"))"
   ]
  },
  {
   "cell_type": "code",
   "execution_count": 152,
   "id": "e91a5549-5160-4259-9919-eb8df7257385",
   "metadata": {},
   "outputs": [
    {
     "name": "stdout",
     "output_type": "stream",
     "text": [
      "[1]\n",
      "Sms is Spam\n"
     ]
    }
   ],
   "source": [
    "input_data = [\"Todays Vodafone numbers ending with 4882 are selected to a receive a å£350 award. If your number matches call 09064019014 to receive your å£350 award.\"]\n",
    "Transformed_data = tfidf.transform(input_data)\n",
    "prediction = loaded_model.predict(Transformed_data)\n",
    "print(prediction)\n",
    "if (prediction == 0 ):\n",
    "    print(\"Sms is Ham\")\n",
    "else:\n",
    "    print(\"Sms is Spam\")"
   ]
  },
  {
   "cell_type": "code",
   "execution_count": null,
   "id": "0dd25226-72e6-4719-a501-05b9c0fcf496",
   "metadata": {},
   "outputs": [],
   "source": []
  }
 ],
 "metadata": {
  "kernelspec": {
   "display_name": "Python [conda env:base] *",
   "language": "python",
   "name": "conda-base-py"
  },
  "language_info": {
   "codemirror_mode": {
    "name": "ipython",
    "version": 3
   },
   "file_extension": ".py",
   "mimetype": "text/x-python",
   "name": "python",
   "nbconvert_exporter": "python",
   "pygments_lexer": "ipython3",
   "version": "3.12.7"
  }
 },
 "nbformat": 4,
 "nbformat_minor": 5
}
